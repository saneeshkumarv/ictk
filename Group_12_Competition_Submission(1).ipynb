{
 "cells": [
  {
   "cell_type": "markdown",
   "id": "0008dcc3",
   "metadata": {},
   "source": [
    "# Group 12 DSA Batch 1 submission for Competition"
   ]
  },
  {
   "cell_type": "markdown",
   "id": "cf82a757",
   "metadata": {},
   "source": [
    "# -------------------------------------------------------------------------"
   ]
  },
  {
   "cell_type": "markdown",
   "id": "57925394",
   "metadata": {},
   "source": [
    "## As part of competition group was assigned to do casestudy on covid related dataset. "
   ]
  },
  {
   "cell_type": "markdown",
   "id": "abbf78ac",
   "metadata": {},
   "source": [
    "### Initial Setup"
   ]
  },
  {
   "cell_type": "code",
   "execution_count": null,
   "id": "7f242edc",
   "metadata": {},
   "outputs": [],
   "source": [
    "import pandas as pd\n",
    "import numpy as np\n",
    "import matplotlib.pyplot as plt\n",
    "import seaborn as sns"
   ]
  },
  {
   "cell_type": "markdown",
   "id": "82139ec6",
   "metadata": {},
   "source": [
    "# 1 - Data Collection"
   ]
  },
  {
   "cell_type": "markdown",
   "id": "3922ec04",
   "metadata": {},
   "source": [
    "### For this case study we used Israeli Ministry of Health public dataset"
   ]
  },
  {
   "cell_type": "code",
   "execution_count": null,
   "id": "9ef88ca4",
   "metadata": {},
   "outputs": [],
   "source": [
    "data=pd.read_csv(\"Data_Covid_final.csv\")\n",
    "dataForAnalysis=data\n",
    "data.head()"
   ]
  },
  {
   "cell_type": "code",
   "execution_count": null,
   "id": "9063b0b7",
   "metadata": {},
   "outputs": [],
   "source": [
    "data.shape"
   ]
  },
  {
   "cell_type": "code",
   "execution_count": 4,
   "id": "4e690c28",
   "metadata": {},
   "outputs": [
    {
     "name": "stdout",
     "output_type": "stream",
     "text": [
      "<class 'pandas.core.frame.DataFrame'>\n",
      "RangeIndex: 2186273 entries, 0 to 2186272\n",
      "Data columns (total 11 columns):\n",
      " #   Column               Dtype \n",
      "---  ------               ----- \n",
      " 0   Unnamed: 0           int64 \n",
      " 1   test_date            object\n",
      " 2   cough                int64 \n",
      " 3   fever                int64 \n",
      " 4   sore_throat          int64 \n",
      " 5   shortness_of_breath  int64 \n",
      " 6   head_ache            int64 \n",
      " 7   corona_result        object\n",
      " 8   age_60_and_above     object\n",
      " 9   gender               object\n",
      " 10  test_indication      object\n",
      "dtypes: int64(6), object(5)\n",
      "memory usage: 183.5+ MB\n"
     ]
    }
   ],
   "source": [
    "data.info()"
   ]
  },
  {
   "cell_type": "markdown",
   "id": "d34af094",
   "metadata": {},
   "source": [
    "# 2 - Pre-Processing"
   ]
  },
  {
   "cell_type": "markdown",
   "id": "39d0da3f",
   "metadata": {},
   "source": [
    "### i) Missing value handling"
   ]
  },
  {
   "cell_type": "code",
   "execution_count": 5,
   "id": "d9a12ee4",
   "metadata": {},
   "outputs": [
    {
     "data": {
      "text/plain": [
       "Unnamed: 0              0\n",
       "test_date               0\n",
       "cough                   0\n",
       "fever                   0\n",
       "sore_throat             0\n",
       "shortness_of_breath     0\n",
       "head_ache               0\n",
       "corona_result           0\n",
       "age_60_and_above       44\n",
       "gender                  2\n",
       "test_indication         0\n",
       "dtype: int64"
      ]
     },
     "execution_count": 5,
     "metadata": {},
     "output_type": "execute_result"
    }
   ],
   "source": [
    "#Let's see if there is any missing values in dataset\n",
    "data.isna().sum()"
   ]
  },
  {
   "cell_type": "code",
   "execution_count": 6,
   "id": "e5689951",
   "metadata": {},
   "outputs": [],
   "source": [
    "#As we can see, \n",
    "#There are 44 missing values in \"age_60_and_above\"\n",
    "#There are 2 missing values in \"gender\"\n"
   ]
  },
  {
   "cell_type": "code",
   "execution_count": 7,
   "id": "085b4370",
   "metadata": {},
   "outputs": [],
   "source": [
    "#Handling missing \"age_60_and_above\"\n",
    "#Since its a categorical Data with just two categories and entire dataset has 2100000+ samples, we can replace by mode \n",
    "\n",
    "data[\"age_60_and_above\"].fillna(data[\"age_60_and_above\"].mode().iat[0],inplace=True)\n"
   ]
  },
  {
   "cell_type": "code",
   "execution_count": 8,
   "id": "8b5cdba8",
   "metadata": {},
   "outputs": [],
   "source": [
    "#Handling missing \"gender\"\n",
    "#Since entire dataset has 2100000+ samples, we can drop 2 rows\n",
    "\n",
    "data = data.dropna(subset=[\"gender\"],axis=0)"
   ]
  },
  {
   "cell_type": "code",
   "execution_count": 9,
   "id": "e9794e69",
   "metadata": {},
   "outputs": [
    {
     "data": {
      "text/plain": [
       "Unnamed: 0             0\n",
       "test_date              0\n",
       "cough                  0\n",
       "fever                  0\n",
       "sore_throat            0\n",
       "shortness_of_breath    0\n",
       "head_ache              0\n",
       "corona_result          0\n",
       "age_60_and_above       0\n",
       "gender                 0\n",
       "test_indication        0\n",
       "dtype: int64"
      ]
     },
     "execution_count": 9,
     "metadata": {},
     "output_type": "execute_result"
    }
   ],
   "source": [
    "#Let's check null values once again\n",
    "\n",
    "data.isnull().sum()"
   ]
  },
  {
   "cell_type": "code",
   "execution_count": 10,
   "id": "e7e8dac3",
   "metadata": {},
   "outputs": [],
   "source": [
    "#We have completed handling missing data"
   ]
  },
  {
   "cell_type": "markdown",
   "id": "33dea029",
   "metadata": {},
   "source": [
    "### ii) Outlier detection and handling"
   ]
  },
  {
   "cell_type": "code",
   "execution_count": 11,
   "id": "4a1ae15e",
   "metadata": {},
   "outputs": [
    {
     "data": {
      "text/plain": [
       "<AxesSubplot:>"
      ]
     },
     "execution_count": 11,
     "metadata": {},
     "output_type": "execute_result"
    },
    {
     "data": {
      "image/png": "[encoded data removed]",
      "text/plain": [
       "<Figure size 720x360 with 1 Axes>"
      ]
     },
     "metadata": {
      "needs_background": "light"
     },
     "output_type": "display_data"
    }
   ],
   "source": [
    "dataTemp=data.drop(\"Unnamed: 0\",axis=1)\n",
    "\n",
    "dataTemp.plot.box(grid='True',figsize=(10,5))"
   ]
  },
  {
   "cell_type": "code",
   "execution_count": 12,
   "id": "890e574f",
   "metadata": {},
   "outputs": [],
   "source": [
    "#Since all the features are categorical, there are no outliers"
   ]
  },
  {
   "cell_type": "markdown",
   "id": "e35112b0",
   "metadata": {},
   "source": [
    "### iii) Encoding"
   ]
  },
  {
   "cell_type": "code",
   "execution_count": 13,
   "id": "bfda6b60",
   "metadata": {},
   "outputs": [],
   "source": [
    "#We have 4 categorical data \"gender\",\"age_60_and_above\",\"test_indication\" and \"corona_result\"\n",
    "#These values have to be encoded"
   ]
  },
  {
   "cell_type": "code",
   "execution_count": 14,
   "id": "f36c9605",
   "metadata": {},
   "outputs": [
    {
     "name": "stderr",
     "output_type": "stream",
     "text": [
      "C:\\Users\\dell\\anaconda3\\lib\\site-packages\\pandas\\core\\indexing.py:1676: SettingWithCopyWarning: \n",
      "A value is trying to be set on a copy of a slice from a DataFrame.\n",
      "Try using .loc[row_indexer,col_indexer] = value instead\n",
      "\n",
      "See the caveats in the documentation: https://pandas.pydata.org/pandas-docs/stable/user_guide/indexing.html#returning-a-view-versus-a-copy\n",
      "  self._setitem_single_column(ilocs[0], value, pi)\n"
     ]
    },
    {
     "data": {
      "text/plain": [
       "array([1, 0])"
      ]
     },
     "execution_count": 14,
     "metadata": {},
     "output_type": "execute_result"
    }
   ],
   "source": [
    "#Encoding \"gender\"\n",
    "\n",
    "#Since \"gender\" has only 2 values, we can label encode it\n",
    "\n",
    "from sklearn import preprocessing\n",
    " \n",
    "# label_encoder object knows how to understand word labels.\n",
    "label_encoder = preprocessing.LabelEncoder()\n",
    "\n",
    "# Encode labels in column 'gender'.\n",
    "data.loc[:,['gender']]=label_encoder.fit_transform(data['gender'])\n",
    " \n",
    "data['gender'].unique()"
   ]
  },
  {
   "cell_type": "code",
   "execution_count": 15,
   "id": "1ffa7833",
   "metadata": {},
   "outputs": [
    {
     "data": {
      "text/plain": [
       "array([0, 1])"
      ]
     },
     "execution_count": 15,
     "metadata": {},
     "output_type": "execute_result"
    }
   ],
   "source": [
    "#Encoding \"age_60_and_above\"\n",
    "\n",
    "#Since \"age_60_and_above\" also has only 2 values, we can label encode it\n",
    "\n",
    "# label_encoder object knows how to understand word labels.\n",
    "label_encoder = preprocessing.LabelEncoder()\n",
    "\n",
    "# Encode labels in column 'age_60_and_above'.\n",
    "data.loc[:,['age_60_and_above']]=label_encoder.fit_transform(data['age_60_and_above'])\n",
    " \n",
    "data['age_60_and_above'].unique()"
   ]
  },
  {
   "cell_type": "code",
   "execution_count": 16,
   "id": "4b8df5a4",
   "metadata": {},
   "outputs": [],
   "source": [
    "#Encoding \"test_indication\"\n",
    "\n",
    "#Since \"test_indication\" has more than 2 separate values, we need to one-hot-encode for better modelling\n",
    "\n",
    "data = pd.get_dummies(data, columns=[\"test_indication\"], prefix=[\"test_indication\"] ) "
   ]
  },
  {
   "cell_type": "code",
   "execution_count": 17,
   "id": "27430a94",
   "metadata": {},
   "outputs": [],
   "source": [
    "#Encoding \"corona_result\"\n",
    "\n",
    "#Since \"corona_result\" has more than 2 separate values, we need to one-hot-encode for better modelling\n",
    "\n",
    "data = pd.get_dummies(data, columns=[\"corona_result\"], prefix=[\"corona_result\"] )"
   ]
  },
  {
   "cell_type": "code",
   "execution_count": 18,
   "id": "c169297e",
   "metadata": {},
   "outputs": [
    {
     "data": {
      "text/html": [
       "<div>\n",
       "<style scoped>\n",
       "    .dataframe tbody tr th:only-of-type {\n",
       "        vertical-align: middle;\n",
       "    }\n",
       "\n",
       "    .dataframe tbody tr th {\n",
       "        vertical-align: top;\n",
       "    }\n",
       "\n",
       "    .dataframe thead th {\n",
       "        text-align: right;\n",
       "    }\n",
       "</style>\n",
       "<table border=\"1\" class=\"dataframe\">\n",
       "  <thead>\n",
       "    <tr style=\"text-align: right;\">\n",
       "      <th></th>\n",
       "      <th>Unnamed: 0</th>\n",
       "      <th>test_date</th>\n",
       "      <th>cough</th>\n",
       "      <th>fever</th>\n",
       "      <th>sore_throat</th>\n",
       "      <th>shortness_of_breath</th>\n",
       "      <th>head_ache</th>\n",
       "      <th>age_60_and_above</th>\n",
       "      <th>gender</th>\n",
       "      <th>test_indication_Abroad</th>\n",
       "      <th>test_indication_Contact with confirmed</th>\n",
       "      <th>test_indication_Other</th>\n",
       "      <th>corona_result_negative</th>\n",
       "      <th>corona_result_other</th>\n",
       "      <th>corona_result_positive</th>\n",
       "    </tr>\n",
       "  </thead>\n",
       "  <tbody>\n",
       "    <tr>\n",
       "      <th>0</th>\n",
       "      <td>0</td>\n",
       "      <td>2020-11-12</td>\n",
       "      <td>0</td>\n",
       "      <td>0</td>\n",
       "      <td>0</td>\n",
       "      <td>0</td>\n",
       "      <td>0</td>\n",
       "      <td>0</td>\n",
       "      <td>1</td>\n",
       "      <td>0</td>\n",
       "      <td>0</td>\n",
       "      <td>1</td>\n",
       "      <td>1</td>\n",
       "      <td>0</td>\n",
       "      <td>0</td>\n",
       "    </tr>\n",
       "    <tr>\n",
       "      <th>1</th>\n",
       "      <td>1</td>\n",
       "      <td>2020-11-12</td>\n",
       "      <td>0</td>\n",
       "      <td>1</td>\n",
       "      <td>0</td>\n",
       "      <td>0</td>\n",
       "      <td>0</td>\n",
       "      <td>0</td>\n",
       "      <td>1</td>\n",
       "      <td>0</td>\n",
       "      <td>0</td>\n",
       "      <td>1</td>\n",
       "      <td>1</td>\n",
       "      <td>0</td>\n",
       "      <td>0</td>\n",
       "    </tr>\n",
       "    <tr>\n",
       "      <th>2</th>\n",
       "      <td>2</td>\n",
       "      <td>2020-11-12</td>\n",
       "      <td>0</td>\n",
       "      <td>0</td>\n",
       "      <td>0</td>\n",
       "      <td>0</td>\n",
       "      <td>0</td>\n",
       "      <td>1</td>\n",
       "      <td>0</td>\n",
       "      <td>0</td>\n",
       "      <td>0</td>\n",
       "      <td>1</td>\n",
       "      <td>1</td>\n",
       "      <td>0</td>\n",
       "      <td>0</td>\n",
       "    </tr>\n",
       "    <tr>\n",
       "      <th>3</th>\n",
       "      <td>3</td>\n",
       "      <td>2020-11-12</td>\n",
       "      <td>0</td>\n",
       "      <td>0</td>\n",
       "      <td>0</td>\n",
       "      <td>0</td>\n",
       "      <td>0</td>\n",
       "      <td>0</td>\n",
       "      <td>1</td>\n",
       "      <td>0</td>\n",
       "      <td>0</td>\n",
       "      <td>1</td>\n",
       "      <td>1</td>\n",
       "      <td>0</td>\n",
       "      <td>0</td>\n",
       "    </tr>\n",
       "    <tr>\n",
       "      <th>4</th>\n",
       "      <td>4</td>\n",
       "      <td>2020-11-12</td>\n",
       "      <td>0</td>\n",
       "      <td>1</td>\n",
       "      <td>0</td>\n",
       "      <td>0</td>\n",
       "      <td>0</td>\n",
       "      <td>0</td>\n",
       "      <td>1</td>\n",
       "      <td>0</td>\n",
       "      <td>1</td>\n",
       "      <td>0</td>\n",
       "      <td>1</td>\n",
       "      <td>0</td>\n",
       "      <td>0</td>\n",
       "    </tr>\n",
       "    <tr>\n",
       "      <th>...</th>\n",
       "      <td>...</td>\n",
       "      <td>...</td>\n",
       "      <td>...</td>\n",
       "      <td>...</td>\n",
       "      <td>...</td>\n",
       "      <td>...</td>\n",
       "      <td>...</td>\n",
       "      <td>...</td>\n",
       "      <td>...</td>\n",
       "      <td>...</td>\n",
       "      <td>...</td>\n",
       "      <td>...</td>\n",
       "      <td>...</td>\n",
       "      <td>...</td>\n",
       "      <td>...</td>\n",
       "    </tr>\n",
       "    <tr>\n",
       "      <th>2186268</th>\n",
       "      <td>2742591</td>\n",
       "      <td>2020-03-11</td>\n",
       "      <td>0</td>\n",
       "      <td>0</td>\n",
       "      <td>0</td>\n",
       "      <td>0</td>\n",
       "      <td>0</td>\n",
       "      <td>0</td>\n",
       "      <td>0</td>\n",
       "      <td>0</td>\n",
       "      <td>0</td>\n",
       "      <td>1</td>\n",
       "      <td>1</td>\n",
       "      <td>0</td>\n",
       "      <td>0</td>\n",
       "    </tr>\n",
       "    <tr>\n",
       "      <th>2186269</th>\n",
       "      <td>2742592</td>\n",
       "      <td>2020-03-11</td>\n",
       "      <td>0</td>\n",
       "      <td>0</td>\n",
       "      <td>0</td>\n",
       "      <td>0</td>\n",
       "      <td>0</td>\n",
       "      <td>0</td>\n",
       "      <td>0</td>\n",
       "      <td>0</td>\n",
       "      <td>0</td>\n",
       "      <td>1</td>\n",
       "      <td>1</td>\n",
       "      <td>0</td>\n",
       "      <td>0</td>\n",
       "    </tr>\n",
       "    <tr>\n",
       "      <th>2186270</th>\n",
       "      <td>2742593</td>\n",
       "      <td>2020-03-11</td>\n",
       "      <td>0</td>\n",
       "      <td>0</td>\n",
       "      <td>0</td>\n",
       "      <td>0</td>\n",
       "      <td>0</td>\n",
       "      <td>0</td>\n",
       "      <td>1</td>\n",
       "      <td>0</td>\n",
       "      <td>0</td>\n",
       "      <td>1</td>\n",
       "      <td>0</td>\n",
       "      <td>1</td>\n",
       "      <td>0</td>\n",
       "    </tr>\n",
       "    <tr>\n",
       "      <th>2186271</th>\n",
       "      <td>2742594</td>\n",
       "      <td>2020-03-11</td>\n",
       "      <td>0</td>\n",
       "      <td>0</td>\n",
       "      <td>0</td>\n",
       "      <td>0</td>\n",
       "      <td>0</td>\n",
       "      <td>0</td>\n",
       "      <td>0</td>\n",
       "      <td>0</td>\n",
       "      <td>0</td>\n",
       "      <td>1</td>\n",
       "      <td>1</td>\n",
       "      <td>0</td>\n",
       "      <td>0</td>\n",
       "    </tr>\n",
       "    <tr>\n",
       "      <th>2186272</th>\n",
       "      <td>2742595</td>\n",
       "      <td>2020-03-11</td>\n",
       "      <td>0</td>\n",
       "      <td>1</td>\n",
       "      <td>0</td>\n",
       "      <td>0</td>\n",
       "      <td>0</td>\n",
       "      <td>0</td>\n",
       "      <td>1</td>\n",
       "      <td>0</td>\n",
       "      <td>0</td>\n",
       "      <td>1</td>\n",
       "      <td>1</td>\n",
       "      <td>0</td>\n",
       "      <td>0</td>\n",
       "    </tr>\n",
       "  </tbody>\n",
       "</table>\n",
       "<p>2186271 rows × 15 columns</p>\n",
       "</div>"
      ],
      "text/plain": [
       "         Unnamed: 0   test_date  cough  fever  sore_throat  \\\n",
       "0                 0  2020-11-12      0      0            0   \n",
       "1                 1  2020-11-12      0      1            0   \n",
       "2                 2  2020-11-12      0      0            0   \n",
       "3                 3  2020-11-12      0      0            0   \n",
       "4                 4  2020-11-12      0      1            0   \n",
       "...             ...         ...    ...    ...          ...   \n",
       "2186268     2742591  2020-03-11      0      0            0   \n",
       "2186269     2742592  2020-03-11      0      0            0   \n",
       "2186270     2742593  2020-03-11      0      0            0   \n",
       "2186271     2742594  2020-03-11      0      0            0   \n",
       "2186272     2742595  2020-03-11      0      1            0   \n",
       "\n",
       "         shortness_of_breath  head_ache  age_60_and_above  gender  \\\n",
       "0                          0          0                 0       1   \n",
       "1                          0          0                 0       1   \n",
       "2                          0          0                 1       0   \n",
       "3                          0          0                 0       1   \n",
       "4                          0          0                 0       1   \n",
       "...                      ...        ...               ...     ...   \n",
       "2186268                    0          0                 0       0   \n",
       "2186269                    0          0                 0       0   \n",
       "2186270                    0          0                 0       1   \n",
       "2186271                    0          0                 0       0   \n",
       "2186272                    0          0                 0       1   \n",
       "\n",
       "         test_indication_Abroad  test_indication_Contact with confirmed  \\\n",
       "0                             0                                       0   \n",
       "1                             0                                       0   \n",
       "2                             0                                       0   \n",
       "3                             0                                       0   \n",
       "4                             0                                       1   \n",
       "...                         ...                                     ...   \n",
       "2186268                       0                                       0   \n",
       "2186269                       0                                       0   \n",
       "2186270                       0                                       0   \n",
       "2186271                       0                                       0   \n",
       "2186272                       0                                       0   \n",
       "\n",
       "         test_indication_Other  corona_result_negative  corona_result_other  \\\n",
       "0                            1                       1                    0   \n",
       "1                            1                       1                    0   \n",
       "2                            1                       1                    0   \n",
       "3                            1                       1                    0   \n",
       "4                            0                       1                    0   \n",
       "...                        ...                     ...                  ...   \n",
       "2186268                      1                       1                    0   \n",
       "2186269                      1                       1                    0   \n",
       "2186270                      1                       0                    1   \n",
       "2186271                      1                       1                    0   \n",
       "2186272                      1                       1                    0   \n",
       "\n",
       "         corona_result_positive  \n",
       "0                             0  \n",
       "1                             0  \n",
       "2                             0  \n",
       "3                             0  \n",
       "4                             0  \n",
       "...                         ...  \n",
       "2186268                       0  \n",
       "2186269                       0  \n",
       "2186270                       0  \n",
       "2186271                       0  \n",
       "2186272                       0  \n",
       "\n",
       "[2186271 rows x 15 columns]"
      ]
     },
     "execution_count": 18,
     "metadata": {},
     "output_type": "execute_result"
    }
   ],
   "source": [
    "#Encoded Dataframe\n",
    "data"
   ]
  },
  {
   "cell_type": "markdown",
   "id": "c8f29dcf",
   "metadata": {},
   "source": [
    "### iv) Feature Reduction"
   ]
  },
  {
   "cell_type": "code",
   "execution_count": 19,
   "id": "24fe0205",
   "metadata": {},
   "outputs": [
    {
     "data": {
      "text/plain": [
       "Index(['Unnamed: 0', 'test_date', 'cough', 'fever', 'sore_throat',\n",
       "       'shortness_of_breath', 'head_ache', 'age_60_and_above', 'gender',\n",
       "       'test_indication_Abroad', 'test_indication_Contact with confirmed',\n",
       "       'test_indication_Other', 'corona_result_negative',\n",
       "       'corona_result_other', 'corona_result_positive'],\n",
       "      dtype='object')"
      ]
     },
     "execution_count": 19,
     "metadata": {},
     "output_type": "execute_result"
    }
   ],
   "source": [
    "#Let's list column values of dataframe\n",
    "data.columns"
   ]
  },
  {
   "cell_type": "code",
   "execution_count": 20,
   "id": "7a73012d",
   "metadata": {},
   "outputs": [],
   "source": [
    "#In these, \"Unnamed: 0\" and \"test_date\" are unimportant.\n",
    "#So we can drop it\n",
    "data.drop([\"Unnamed: 0\",\"test_date\"], axis = 1, inplace = True)"
   ]
  },
  {
   "cell_type": "code",
   "execution_count": 21,
   "id": "6b8f014f",
   "metadata": {},
   "outputs": [
    {
     "data": {
      "text/html": [
       "<div>\n",
       "<style scoped>\n",
       "    .dataframe tbody tr th:only-of-type {\n",
       "        vertical-align: middle;\n",
       "    }\n",
       "\n",
       "    .dataframe tbody tr th {\n",
       "        vertical-align: top;\n",
       "    }\n",
       "\n",
       "    .dataframe thead th {\n",
       "        text-align: right;\n",
       "    }\n",
       "</style>\n",
       "<table border=\"1\" class=\"dataframe\">\n",
       "  <thead>\n",
       "    <tr style=\"text-align: right;\">\n",
       "      <th></th>\n",
       "      <th>cough</th>\n",
       "      <th>fever</th>\n",
       "      <th>sore_throat</th>\n",
       "      <th>shortness_of_breath</th>\n",
       "      <th>head_ache</th>\n",
       "      <th>age_60_and_above</th>\n",
       "      <th>gender</th>\n",
       "      <th>test_indication_Abroad</th>\n",
       "      <th>test_indication_Contact with confirmed</th>\n",
       "      <th>test_indication_Other</th>\n",
       "      <th>corona_result_negative</th>\n",
       "      <th>corona_result_other</th>\n",
       "      <th>corona_result_positive</th>\n",
       "    </tr>\n",
       "  </thead>\n",
       "  <tbody>\n",
       "    <tr>\n",
       "      <th>0</th>\n",
       "      <td>0</td>\n",
       "      <td>0</td>\n",
       "      <td>0</td>\n",
       "      <td>0</td>\n",
       "      <td>0</td>\n",
       "      <td>0</td>\n",
       "      <td>1</td>\n",
       "      <td>0</td>\n",
       "      <td>0</td>\n",
       "      <td>1</td>\n",
       "      <td>1</td>\n",
       "      <td>0</td>\n",
       "      <td>0</td>\n",
       "    </tr>\n",
       "    <tr>\n",
       "      <th>1</th>\n",
       "      <td>0</td>\n",
       "      <td>1</td>\n",
       "      <td>0</td>\n",
       "      <td>0</td>\n",
       "      <td>0</td>\n",
       "      <td>0</td>\n",
       "      <td>1</td>\n",
       "      <td>0</td>\n",
       "      <td>0</td>\n",
       "      <td>1</td>\n",
       "      <td>1</td>\n",
       "      <td>0</td>\n",
       "      <td>0</td>\n",
       "    </tr>\n",
       "    <tr>\n",
       "      <th>2</th>\n",
       "      <td>0</td>\n",
       "      <td>0</td>\n",
       "      <td>0</td>\n",
       "      <td>0</td>\n",
       "      <td>0</td>\n",
       "      <td>1</td>\n",
       "      <td>0</td>\n",
       "      <td>0</td>\n",
       "      <td>0</td>\n",
       "      <td>1</td>\n",
       "      <td>1</td>\n",
       "      <td>0</td>\n",
       "      <td>0</td>\n",
       "    </tr>\n",
       "    <tr>\n",
       "      <th>3</th>\n",
       "      <td>0</td>\n",
       "      <td>0</td>\n",
       "      <td>0</td>\n",
       "      <td>0</td>\n",
       "      <td>0</td>\n",
       "      <td>0</td>\n",
       "      <td>1</td>\n",
       "      <td>0</td>\n",
       "      <td>0</td>\n",
       "      <td>1</td>\n",
       "      <td>1</td>\n",
       "      <td>0</td>\n",
       "      <td>0</td>\n",
       "    </tr>\n",
       "    <tr>\n",
       "      <th>4</th>\n",
       "      <td>0</td>\n",
       "      <td>1</td>\n",
       "      <td>0</td>\n",
       "      <td>0</td>\n",
       "      <td>0</td>\n",
       "      <td>0</td>\n",
       "      <td>1</td>\n",
       "      <td>0</td>\n",
       "      <td>1</td>\n",
       "      <td>0</td>\n",
       "      <td>1</td>\n",
       "      <td>0</td>\n",
       "      <td>0</td>\n",
       "    </tr>\n",
       "    <tr>\n",
       "      <th>...</th>\n",
       "      <td>...</td>\n",
       "      <td>...</td>\n",
       "      <td>...</td>\n",
       "      <td>...</td>\n",
       "      <td>...</td>\n",
       "      <td>...</td>\n",
       "      <td>...</td>\n",
       "      <td>...</td>\n",
       "      <td>...</td>\n",
       "      <td>...</td>\n",
       "      <td>...</td>\n",
       "      <td>...</td>\n",
       "      <td>...</td>\n",
       "    </tr>\n",
       "    <tr>\n",
       "      <th>2186268</th>\n",
       "      <td>0</td>\n",
       "      <td>0</td>\n",
       "      <td>0</td>\n",
       "      <td>0</td>\n",
       "      <td>0</td>\n",
       "      <td>0</td>\n",
       "      <td>0</td>\n",
       "      <td>0</td>\n",
       "      <td>0</td>\n",
       "      <td>1</td>\n",
       "      <td>1</td>\n",
       "      <td>0</td>\n",
       "      <td>0</td>\n",
       "    </tr>\n",
       "    <tr>\n",
       "      <th>2186269</th>\n",
       "      <td>0</td>\n",
       "      <td>0</td>\n",
       "      <td>0</td>\n",
       "      <td>0</td>\n",
       "      <td>0</td>\n",
       "      <td>0</td>\n",
       "      <td>0</td>\n",
       "      <td>0</td>\n",
       "      <td>0</td>\n",
       "      <td>1</td>\n",
       "      <td>1</td>\n",
       "      <td>0</td>\n",
       "      <td>0</td>\n",
       "    </tr>\n",
       "    <tr>\n",
       "      <th>2186270</th>\n",
       "      <td>0</td>\n",
       "      <td>0</td>\n",
       "      <td>0</td>\n",
       "      <td>0</td>\n",
       "      <td>0</td>\n",
       "      <td>0</td>\n",
       "      <td>1</td>\n",
       "      <td>0</td>\n",
       "      <td>0</td>\n",
       "      <td>1</td>\n",
       "      <td>0</td>\n",
       "      <td>1</td>\n",
       "      <td>0</td>\n",
       "    </tr>\n",
       "    <tr>\n",
       "      <th>2186271</th>\n",
       "      <td>0</td>\n",
       "      <td>0</td>\n",
       "      <td>0</td>\n",
       "      <td>0</td>\n",
       "      <td>0</td>\n",
       "      <td>0</td>\n",
       "      <td>0</td>\n",
       "      <td>0</td>\n",
       "      <td>0</td>\n",
       "      <td>1</td>\n",
       "      <td>1</td>\n",
       "      <td>0</td>\n",
       "      <td>0</td>\n",
       "    </tr>\n",
       "    <tr>\n",
       "      <th>2186272</th>\n",
       "      <td>0</td>\n",
       "      <td>1</td>\n",
       "      <td>0</td>\n",
       "      <td>0</td>\n",
       "      <td>0</td>\n",
       "      <td>0</td>\n",
       "      <td>1</td>\n",
       "      <td>0</td>\n",
       "      <td>0</td>\n",
       "      <td>1</td>\n",
       "      <td>1</td>\n",
       "      <td>0</td>\n",
       "      <td>0</td>\n",
       "    </tr>\n",
       "  </tbody>\n",
       "</table>\n",
       "<p>2186271 rows × 13 columns</p>\n",
       "</div>"
      ],
      "text/plain": [
       "         cough  fever  sore_throat  shortness_of_breath  head_ache  \\\n",
       "0            0      0            0                    0          0   \n",
       "1            0      1            0                    0          0   \n",
       "2            0      0            0                    0          0   \n",
       "3            0      0            0                    0          0   \n",
       "4            0      1            0                    0          0   \n",
       "...        ...    ...          ...                  ...        ...   \n",
       "2186268      0      0            0                    0          0   \n",
       "2186269      0      0            0                    0          0   \n",
       "2186270      0      0            0                    0          0   \n",
       "2186271      0      0            0                    0          0   \n",
       "2186272      0      1            0                    0          0   \n",
       "\n",
       "         age_60_and_above  gender  test_indication_Abroad  \\\n",
       "0                       0       1                       0   \n",
       "1                       0       1                       0   \n",
       "2                       1       0                       0   \n",
       "3                       0       1                       0   \n",
       "4                       0       1                       0   \n",
       "...                   ...     ...                     ...   \n",
       "2186268                 0       0                       0   \n",
       "2186269                 0       0                       0   \n",
       "2186270                 0       1                       0   \n",
       "2186271                 0       0                       0   \n",
       "2186272                 0       1                       0   \n",
       "\n",
       "         test_indication_Contact with confirmed  test_indication_Other  \\\n",
       "0                                             0                      1   \n",
       "1                                             0                      1   \n",
       "2                                             0                      1   \n",
       "3                                             0                      1   \n",
       "4                                             1                      0   \n",
       "...                                         ...                    ...   \n",
       "2186268                                       0                      1   \n",
       "2186269                                       0                      1   \n",
       "2186270                                       0                      1   \n",
       "2186271                                       0                      1   \n",
       "2186272                                       0                      1   \n",
       "\n",
       "         corona_result_negative  corona_result_other  corona_result_positive  \n",
       "0                             1                    0                       0  \n",
       "1                             1                    0                       0  \n",
       "2                             1                    0                       0  \n",
       "3                             1                    0                       0  \n",
       "4                             1                    0                       0  \n",
       "...                         ...                  ...                     ...  \n",
       "2186268                       1                    0                       0  \n",
       "2186269                       1                    0                       0  \n",
       "2186270                       0                    1                       0  \n",
       "2186271                       1                    0                       0  \n",
       "2186272                       1                    0                       0  \n",
       "\n",
       "[2186271 rows x 13 columns]"
      ]
     },
     "execution_count": 21,
     "metadata": {},
     "output_type": "execute_result"
    }
   ],
   "source": [
    "#Dataframe after drop\n",
    "data"
   ]
  },
  {
   "cell_type": "code",
   "execution_count": 22,
   "id": "855657b6",
   "metadata": {},
   "outputs": [
    {
     "data": {
      "text/plain": [
       "<AxesSubplot:>"
      ]
     },
     "execution_count": 22,
     "metadata": {},
     "output_type": "execute_result"
    },
    {
     "data": {
      "image/png": "[encoded data removed]",
      "text/plain": [
       "<Figure size 1440x576 with 2 Axes>"
      ]
     },
     "metadata": {
      "needs_background": "light"
     },
     "output_type": "display_data"
    }
   ],
   "source": [
    "#Checking correlation between variables\n",
    "correlationmatrix = data.corr()\n",
    "plt.subplots(figsize=(20,8))\n",
    "sns.heatmap(correlationmatrix,vmin=0,vmax=1,annot=True)\n"
   ]
  },
  {
   "cell_type": "code",
   "execution_count": 23,
   "id": "77d40bf6",
   "metadata": {},
   "outputs": [],
   "source": [
    "#As we can see from correlation heatmap, there are no significant correlation between variables"
   ]
  },
  {
   "cell_type": "markdown",
   "id": "ac1f516f",
   "metadata": {},
   "source": [
    "### v) Standardization and Normalization"
   ]
  },
  {
   "cell_type": "code",
   "execution_count": 24,
   "id": "be3ba212",
   "metadata": {},
   "outputs": [],
   "source": [
    "#Since all variables are categorical, there is no scope for standardization/normalization"
   ]
  },
  {
   "cell_type": "markdown",
   "id": "2f5b8a1c",
   "metadata": {},
   "source": [
    "# 3 - Exploratory Data Analysis"
   ]
  },
  {
   "cell_type": "code",
   "execution_count": 25,
   "id": "aede43e2",
   "metadata": {},
   "outputs": [
    {
     "data": {
      "text/html": [
       "<div>\n",
       "<style scoped>\n",
       "    .dataframe tbody tr th:only-of-type {\n",
       "        vertical-align: middle;\n",
       "    }\n",
       "\n",
       "    .dataframe tbody tr th {\n",
       "        vertical-align: top;\n",
       "    }\n",
       "\n",
       "    .dataframe thead th {\n",
       "        text-align: right;\n",
       "    }\n",
       "</style>\n",
       "<table border=\"1\" class=\"dataframe\">\n",
       "  <thead>\n",
       "    <tr style=\"text-align: right;\">\n",
       "      <th></th>\n",
       "      <th>Unnamed: 0</th>\n",
       "      <th>test_date</th>\n",
       "      <th>cough</th>\n",
       "      <th>fever</th>\n",
       "      <th>sore_throat</th>\n",
       "      <th>shortness_of_breath</th>\n",
       "      <th>head_ache</th>\n",
       "      <th>corona_result</th>\n",
       "      <th>age_60_and_above</th>\n",
       "      <th>gender</th>\n",
       "      <th>test_indication</th>\n",
       "    </tr>\n",
       "  </thead>\n",
       "  <tbody>\n",
       "    <tr>\n",
       "      <th>0</th>\n",
       "      <td>0</td>\n",
       "      <td>2020-11-12</td>\n",
       "      <td>0</td>\n",
       "      <td>0</td>\n",
       "      <td>0</td>\n",
       "      <td>0</td>\n",
       "      <td>0</td>\n",
       "      <td>negative</td>\n",
       "      <td>No</td>\n",
       "      <td>male</td>\n",
       "      <td>Other</td>\n",
       "    </tr>\n",
       "    <tr>\n",
       "      <th>1</th>\n",
       "      <td>1</td>\n",
       "      <td>2020-11-12</td>\n",
       "      <td>0</td>\n",
       "      <td>1</td>\n",
       "      <td>0</td>\n",
       "      <td>0</td>\n",
       "      <td>0</td>\n",
       "      <td>negative</td>\n",
       "      <td>No</td>\n",
       "      <td>male</td>\n",
       "      <td>Other</td>\n",
       "    </tr>\n",
       "    <tr>\n",
       "      <th>2</th>\n",
       "      <td>2</td>\n",
       "      <td>2020-11-12</td>\n",
       "      <td>0</td>\n",
       "      <td>0</td>\n",
       "      <td>0</td>\n",
       "      <td>0</td>\n",
       "      <td>0</td>\n",
       "      <td>negative</td>\n",
       "      <td>Yes</td>\n",
       "      <td>female</td>\n",
       "      <td>Other</td>\n",
       "    </tr>\n",
       "    <tr>\n",
       "      <th>3</th>\n",
       "      <td>3</td>\n",
       "      <td>2020-11-12</td>\n",
       "      <td>0</td>\n",
       "      <td>0</td>\n",
       "      <td>0</td>\n",
       "      <td>0</td>\n",
       "      <td>0</td>\n",
       "      <td>negative</td>\n",
       "      <td>No</td>\n",
       "      <td>male</td>\n",
       "      <td>Other</td>\n",
       "    </tr>\n",
       "    <tr>\n",
       "      <th>4</th>\n",
       "      <td>4</td>\n",
       "      <td>2020-11-12</td>\n",
       "      <td>0</td>\n",
       "      <td>1</td>\n",
       "      <td>0</td>\n",
       "      <td>0</td>\n",
       "      <td>0</td>\n",
       "      <td>negative</td>\n",
       "      <td>No</td>\n",
       "      <td>male</td>\n",
       "      <td>Contact with confirmed</td>\n",
       "    </tr>\n",
       "    <tr>\n",
       "      <th>...</th>\n",
       "      <td>...</td>\n",
       "      <td>...</td>\n",
       "      <td>...</td>\n",
       "      <td>...</td>\n",
       "      <td>...</td>\n",
       "      <td>...</td>\n",
       "      <td>...</td>\n",
       "      <td>...</td>\n",
       "      <td>...</td>\n",
       "      <td>...</td>\n",
       "      <td>...</td>\n",
       "    </tr>\n",
       "    <tr>\n",
       "      <th>2186268</th>\n",
       "      <td>2742591</td>\n",
       "      <td>2020-03-11</td>\n",
       "      <td>0</td>\n",
       "      <td>0</td>\n",
       "      <td>0</td>\n",
       "      <td>0</td>\n",
       "      <td>0</td>\n",
       "      <td>negative</td>\n",
       "      <td>No</td>\n",
       "      <td>female</td>\n",
       "      <td>Other</td>\n",
       "    </tr>\n",
       "    <tr>\n",
       "      <th>2186269</th>\n",
       "      <td>2742592</td>\n",
       "      <td>2020-03-11</td>\n",
       "      <td>0</td>\n",
       "      <td>0</td>\n",
       "      <td>0</td>\n",
       "      <td>0</td>\n",
       "      <td>0</td>\n",
       "      <td>negative</td>\n",
       "      <td>No</td>\n",
       "      <td>female</td>\n",
       "      <td>Other</td>\n",
       "    </tr>\n",
       "    <tr>\n",
       "      <th>2186270</th>\n",
       "      <td>2742593</td>\n",
       "      <td>2020-03-11</td>\n",
       "      <td>0</td>\n",
       "      <td>0</td>\n",
       "      <td>0</td>\n",
       "      <td>0</td>\n",
       "      <td>0</td>\n",
       "      <td>other</td>\n",
       "      <td>No</td>\n",
       "      <td>male</td>\n",
       "      <td>Other</td>\n",
       "    </tr>\n",
       "    <tr>\n",
       "      <th>2186271</th>\n",
       "      <td>2742594</td>\n",
       "      <td>2020-03-11</td>\n",
       "      <td>0</td>\n",
       "      <td>0</td>\n",
       "      <td>0</td>\n",
       "      <td>0</td>\n",
       "      <td>0</td>\n",
       "      <td>negative</td>\n",
       "      <td>No</td>\n",
       "      <td>female</td>\n",
       "      <td>Other</td>\n",
       "    </tr>\n",
       "    <tr>\n",
       "      <th>2186272</th>\n",
       "      <td>2742595</td>\n",
       "      <td>2020-03-11</td>\n",
       "      <td>0</td>\n",
       "      <td>1</td>\n",
       "      <td>0</td>\n",
       "      <td>0</td>\n",
       "      <td>0</td>\n",
       "      <td>negative</td>\n",
       "      <td>No</td>\n",
       "      <td>male</td>\n",
       "      <td>Other</td>\n",
       "    </tr>\n",
       "  </tbody>\n",
       "</table>\n",
       "<p>2186273 rows × 11 columns</p>\n",
       "</div>"
      ],
      "text/plain": [
       "         Unnamed: 0   test_date  cough  fever  sore_throat  \\\n",
       "0                 0  2020-11-12      0      0            0   \n",
       "1                 1  2020-11-12      0      1            0   \n",
       "2                 2  2020-11-12      0      0            0   \n",
       "3                 3  2020-11-12      0      0            0   \n",
       "4                 4  2020-11-12      0      1            0   \n",
       "...             ...         ...    ...    ...          ...   \n",
       "2186268     2742591  2020-03-11      0      0            0   \n",
       "2186269     2742592  2020-03-11      0      0            0   \n",
       "2186270     2742593  2020-03-11      0      0            0   \n",
       "2186271     2742594  2020-03-11      0      0            0   \n",
       "2186272     2742595  2020-03-11      0      1            0   \n",
       "\n",
       "         shortness_of_breath  head_ache corona_result age_60_and_above  \\\n",
       "0                          0          0      negative               No   \n",
       "1                          0          0      negative               No   \n",
       "2                          0          0      negative              Yes   \n",
       "3                          0          0      negative               No   \n",
       "4                          0          0      negative               No   \n",
       "...                      ...        ...           ...              ...   \n",
       "2186268                    0          0      negative               No   \n",
       "2186269                    0          0      negative               No   \n",
       "2186270                    0          0         other               No   \n",
       "2186271                    0          0      negative               No   \n",
       "2186272                    0          0      negative               No   \n",
       "\n",
       "         gender         test_indication  \n",
       "0          male                   Other  \n",
       "1          male                   Other  \n",
       "2        female                   Other  \n",
       "3          male                   Other  \n",
       "4          male  Contact with confirmed  \n",
       "...         ...                     ...  \n",
       "2186268  female                   Other  \n",
       "2186269  female                   Other  \n",
       "2186270    male                   Other  \n",
       "2186271  female                   Other  \n",
       "2186272    male                   Other  \n",
       "\n",
       "[2186273 rows x 11 columns]"
      ]
     },
     "execution_count": 25,
     "metadata": {},
     "output_type": "execute_result"
    }
   ],
   "source": [
    "#Let's try to understand some information from the data with the help of visual aids\n",
    "\n",
    "dataForAnalysis\n",
    "\n",
    "#This dataset is a copy of original dataset before encoding. It can be used for analysis"
   ]
  },
  {
   "cell_type": "markdown",
   "id": "3de20ecc",
   "metadata": {},
   "source": [
    "### i) - Univariate Analysis"
   ]
  },
  {
   "cell_type": "code",
   "execution_count": 26,
   "id": "2a46050f",
   "metadata": {},
   "outputs": [
    {
     "data": {
      "image/png": "[encoded data removed]",
      "text/plain": [
       "<Figure size 936x936 with 5 Axes>"
      ]
     },
     "metadata": {
      "needs_background": "light"
     },
     "output_type": "display_data"
    }
   ],
   "source": [
    "# 1)Let's find distribution of various symptoms\n",
    "\n",
    "dataForAnalysis = dataForAnalysis.astype(str)\n",
    "dataForAnalysis =dataForAnalysis.replace(str(1),'Yes')\n",
    "dataForAnalysis =dataForAnalysis.replace(str(0),'No')\n",
    "\n",
    "fig,ax= plt.subplots(figsize=(13,13))\n",
    "fig.suptitle('Distribution of Vrious Symptoms', fontsize=18, y=0.93)\n",
    "ax1=plt.subplot(3,2,1)\n",
    "graph=sns.countplot(x=dataForAnalysis[\"cough\"],ax=ax1)\n",
    "for p in graph.patches:\n",
    "        graph.annotate('{}'.format(p.get_height()), (p.get_x()+0.30, p.get_height()+12000))\n",
    "ax1=plt.subplot(3,2,2)\n",
    "graph=sns.countplot(x=dataForAnalysis[\"fever\"],ax=ax1)\n",
    "for p in graph.patches:\n",
    "        graph.annotate('{}'.format(p.get_height()), (p.get_x()+0.30, p.get_height()+12000))\n",
    "ax1=plt.subplot(3,2,3)\n",
    "graph=sns.countplot(x=dataForAnalysis[\"sore_throat\"],ax=ax1)\n",
    "for p in graph.patches:\n",
    "        graph.annotate('{}'.format(p.get_height()), (p.get_x()+0.30, p.get_height()+12000))\n",
    "ax1=plt.subplot(3,2,4)\n",
    "graph=sns.countplot(x=dataForAnalysis[\"shortness_of_breath\"],ax=ax1)\n",
    "for p in graph.patches:\n",
    "        graph.annotate('{}'.format(p.get_height()), (p.get_x()+0.30, p.get_height()+12000))\n",
    "ax1=plt.subplot(3,2,5)\n",
    "graph=sns.countplot(x=dataForAnalysis[\"head_ache\"],ax=ax1)\n",
    "for p in graph.patches:\n",
    "        graph.annotate('{}'.format(p.get_height()), (p.get_x()+0.30, p.get_height()+12000))\n",
    "#sns.scatterplot(data=data, x=\"Add4(in Thousands)\", y=\"Profit(in Thousands)\",ax=ax1)\n"
   ]
  },
  {
   "cell_type": "code",
   "execution_count": 27,
   "id": "6e71e046",
   "metadata": {},
   "outputs": [],
   "source": [
    "#INSIGHT\n",
    "# Majority of tested people don't show symptoms\n",
    "# This is a welcome move from authority to curb asymptomatic covid spread"
   ]
  },
  {
   "cell_type": "code",
   "execution_count": 28,
   "id": "7a2cc953",
   "metadata": {},
   "outputs": [
    {
     "data": {
      "image/png": "[encoded data removed]",
      "text/plain": [
       "<Figure size 504x576 with 1 Axes>"
      ]
     },
     "metadata": {
      "needs_background": "light"
     },
     "output_type": "display_data"
    }
   ],
   "source": [
    "# 2) Let's find distribution of corona results\n",
    "\n",
    "fig, ax = plt.subplots(figsize=(7,8))\n",
    "plt.xlabel(\"xlabel\",fontsize=15)\n",
    "plt.ylabel(\"ylabel\",fontsize=15)\n",
    "graph=sns.countplot(x=dataForAnalysis[\"corona_result\"])\n",
    "graph.set_title(\"Corona Result (Count)\",fontsize=20,pad=15)\n",
    "graph.set(xlabel=\"Result\", ylabel=\"Count\")\n",
    "\n",
    "for p in graph.patches:\n",
    "        graph.annotate('{}'.format(p.get_height()), (p.get_x()+0.25, p.get_height()+10000))"
   ]
  },
  {
   "cell_type": "code",
   "execution_count": 29,
   "id": "790624bd",
   "metadata": {},
   "outputs": [],
   "source": [
    "#INSIGHT\n",
    "#Here we can see that majority of the results are negative. \n",
    "#So that we can conslude TPR(Test Positivity Rate) is low\n"
   ]
  },
  {
   "cell_type": "markdown",
   "id": "bee305cd",
   "metadata": {},
   "source": [
    "### ii) - Bivariate Analysis"
   ]
  },
  {
   "cell_type": "code",
   "execution_count": 30,
   "id": "5c64fc40",
   "metadata": {},
   "outputs": [
    {
     "data": {
      "text/plain": [
       "<AxesSubplot:xlabel='corona_result'>"
      ]
     },
     "execution_count": 30,
     "metadata": {},
     "output_type": "execute_result"
    },
    {
     "data": {
      "image/png": "[encoded data removed]",
      "text/plain": [
       "<Figure size 576x576 with 1 Axes>"
      ]
     },
     "metadata": {
      "needs_background": "light"
     },
     "output_type": "display_data"
    }
   ],
   "source": [
    "#Lets check age based distribution ineach test results\n",
    "\n",
    "result_age_60_and_above_table = pd.crosstab(index=dataForAnalysis[\"corona_result\"], columns=dataForAnalysis[\"age_60_and_above\"])\n",
    "result_age_60_and_above_table.plot(kind=\"bar\", figsize=(8,8),stacked=True)"
   ]
  },
  {
   "cell_type": "code",
   "execution_count": 31,
   "id": "5b23741c",
   "metadata": {},
   "outputs": [],
   "source": [
    "#INSIGHT\n",
    "#To the surprise ratio of old aged people in covid positive section is less"
   ]
  },
  {
   "cell_type": "code",
   "execution_count": 32,
   "id": "4fcafa3e",
   "metadata": {},
   "outputs": [
    {
     "data": {
      "text/plain": [
       "<AxesSubplot:xlabel='corona_result'>"
      ]
     },
     "execution_count": 32,
     "metadata": {},
     "output_type": "execute_result"
    },
    {
     "data": {
      "image/png": "[encoded data removed]",
      "text/plain": [
       "<Figure size 576x576 with 1 Axes>"
      ]
     },
     "metadata": {
      "needs_background": "light"
     },
     "output_type": "display_data"
    }
   ],
   "source": [
    "#Lets check test_indication based distribution ineach test results\n",
    "\n",
    "result_test_indication_table = pd.crosstab(index=dataForAnalysis[\"corona_result\"], columns=dataForAnalysis[\"test_indication\"])\n",
    "result_test_indication_table.plot(kind=\"bar\", figsize=(8,8),stacked=True)"
   ]
  },
  {
   "cell_type": "code",
   "execution_count": 33,
   "id": "6b5df59d",
   "metadata": {},
   "outputs": [],
   "source": [
    "#INSIGHT\n",
    "#Here we can see that tranmission by confirmed contact is high in positive cases"
   ]
  },
  {
   "cell_type": "markdown",
   "id": "106fa395",
   "metadata": {},
   "source": [
    "# 4 - Modelling"
   ]
  },
  {
   "cell_type": "code",
   "execution_count": 34,
   "id": "a5b7b106",
   "metadata": {},
   "outputs": [],
   "source": [
    "#Now lets create a machine learning model to predict covid test results\n",
    "\n",
    "#Depended variables\n",
    "y=data[[\"corona_result_negative\",\"corona_result_other\",\"corona_result_positive\"]]\n",
    "\n",
    "#Independed variables\n",
    "X=data.drop([\"corona_result_negative\",\"corona_result_other\",\"corona_result_positive\"],axis=1)"
   ]
  },
  {
   "cell_type": "code",
   "execution_count": 35,
   "id": "1c03e5fc",
   "metadata": {},
   "outputs": [],
   "source": [
    "#Splitting data for training and test\n",
    "from sklearn.model_selection import train_test_split # Import train_test_split function\n",
    "\n",
    "X_train, X_test, y_train, y_test = train_test_split(X, y, test_size=0.3, random_state=1) # 70% training and 30% test"
   ]
  },
  {
   "cell_type": "markdown",
   "id": "c9b1080f",
   "metadata": {},
   "source": [
    "### i) Decision Tree"
   ]
  },
  {
   "cell_type": "code",
   "execution_count": 36,
   "id": "9551823e",
   "metadata": {},
   "outputs": [],
   "source": [
    "#Modelling_Decision_Tree\n",
    "from sklearn.tree import DecisionTreeClassifier # Import Decision Tree Classifier\n",
    "\n",
    "# Create Decision Tree classifer object\n",
    "clf = DecisionTreeClassifier()\n",
    "\n",
    "# Train Decision Tree Classifer\n",
    "clf = clf.fit(X_train,y_train)\n",
    "\n",
    "#Predict the response for test dataset\n",
    "y_pred = clf.predict(X_test)"
   ]
  },
  {
   "cell_type": "code",
   "execution_count": 37,
   "id": "243e393f",
   "metadata": {},
   "outputs": [
    {
     "name": "stdout",
     "output_type": "stream",
     "text": [
      "Accuracy: 0.914820043849351\n"
     ]
    }
   ],
   "source": [
    "# Model Accuracy\n",
    "\n",
    "from sklearn import metrics\n",
    "\n",
    "print(\"Accuracy:\",metrics.accuracy_score(y_test, y_pred))"
   ]
  },
  {
   "cell_type": "markdown",
   "id": "a4b24276",
   "metadata": {},
   "source": [
    "### ii) Random Forest"
   ]
  },
  {
   "cell_type": "code",
   "execution_count": null,
   "id": "42bea64b",
   "metadata": {},
   "outputs": [],
   "source": [
    "from sklearn.ensemble import RandomForestClassifier\n",
    "\n",
    "# Create Random Forest classifer object\n",
    "rf = RandomForestClassifier()\n",
    "\n",
    "# Train Random Forest Classifer\n",
    "rf = rf.fit(X_train,y_train)\n",
    "\n",
    "#Predict the response for test dataset\n",
    "y_pred = rf.predict(X_test)"
   ]
  },
  {
   "cell_type": "code",
   "execution_count": null,
   "id": "b52afaee",
   "metadata": {},
   "outputs": [],
   "source": [
    "# Model Accuracy\n",
    "print(\"Accuracy:\",metrics.accuracy_score(y_test, y_pred))"
   ]
  },
  {
   "cell_type": "code",
   "execution_count": null,
   "id": "ade188cc",
   "metadata": {},
   "outputs": [],
   "source": [
    "#INSIGHT\n",
    "#Here we can see, Random forest classifier is slightly more accurate than Decision Tree Classifier\n",
    "#So let's take our second model for further steps"
   ]
  },
  {
   "cell_type": "markdown",
   "id": "26184f4a",
   "metadata": {},
   "source": [
    "# 5 - Model Fine Tuning"
   ]
  },
  {
   "cell_type": "code",
   "execution_count": null,
   "id": "00cd0975",
   "metadata": {},
   "outputs": [],
   "source": [
    "#Let's fine tune our model to improve it's efficiency"
   ]
  },
  {
   "cell_type": "markdown",
   "id": "75014cf6",
   "metadata": {},
   "source": [
    "### i) Feature Importance"
   ]
  },
  {
   "cell_type": "code",
   "execution_count": null,
   "id": "e7dc0f34",
   "metadata": {},
   "outputs": [],
   "source": [
    "#Checking feature importance of the model\n",
    "pd.Series(rf.feature_importances_,index=X.columns).sort_values(ascending=False)"
   ]
  },
  {
   "cell_type": "code",
   "execution_count": null,
   "id": "9295c3cb",
   "metadata": {},
   "outputs": [],
   "source": [
    "#INSIGHT\n",
    "#Here we can see gender and age bracket are least important for over model."
   ]
  },
  {
   "cell_type": "markdown",
   "id": "7b40c582",
   "metadata": {},
   "source": [
    "### ii) Hyperparametric tuning\n"
   ]
  },
  {
   "cell_type": "code",
   "execution_count": null,
   "id": "14eae4b8",
   "metadata": {},
   "outputs": [],
   "source": [
    "#checking available hyperparameters\n",
    "\n",
    "RandomForestClassifier().get_params()"
   ]
  },
  {
   "cell_type": "code",
   "execution_count": null,
   "id": "1ae08679",
   "metadata": {},
   "outputs": [],
   "source": [
    "# Creating new Random Forest classifer object with optimised parametric values\n",
    "rf = RandomForestClassifier(criterion=\"entropy\",max_depth=10,max_features=5)\n",
    "\n",
    "# Train Random Forest Classifer\n",
    "rf = rf.fit(X_train,y_train)\n",
    "\n",
    "#Predict the response for test dataset\n",
    "y_pred = rf.predict(X_test)"
   ]
  },
  {
   "cell_type": "code",
   "execution_count": null,
   "id": "f425e592",
   "metadata": {},
   "outputs": [],
   "source": [
    "print(\"Accuracy:\",metrics.accuracy_score(y_test, y_pred))"
   ]
  },
  {
   "cell_type": "markdown",
   "id": "4151a3da",
   "metadata": {},
   "source": [
    "#INSIGHT\n",
    "#By tuning hyperparametric values, we could improve effeciency of our model slightly"
   ]
  },
  {
   "cell_type": "code",
   "execution_count": null,
   "id": "580c20c2",
   "metadata": {},
   "outputs": [],
   "source": []
  },
  {
   "cell_type": "code",
   "execution_count": null,
   "id": "38a4324e",
   "metadata": {},
   "outputs": [],
   "source": []
  },
  {
   "cell_type": "code",
   "execution_count": null,
   "id": "ef28d55f",
   "metadata": {},
   "outputs": [],
   "source": []
  },
  {
   "cell_type": "code",
   "execution_count": null,
   "id": "eb4cde89",
   "metadata": {},
   "outputs": [],
   "source": []
  }
 ],
 "metadata": {
  "kernelspec": {
   "display_name": "Python 3",
   "language": "python",
   "name": "python3"
  },
  "language_info": {
   "codemirror_mode": {
    "name": "ipython",
    "version": 3
   },
   "file_extension": ".py",
   "mimetype": "text/x-python",
   "name": "python",
   "nbconvert_exporter": "python",
   "pygments_lexer": "ipython3",
   "version": "3.8.8"
  }
 },
 "nbformat": 4,
 "nbformat_minor": 5
}
